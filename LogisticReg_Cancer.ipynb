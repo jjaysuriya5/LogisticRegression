{
 "cells": [
  {
   "cell_type": "code",
   "execution_count": 4,
   "metadata": {},
   "outputs": [],
   "source": [
    "import pandas as pd\n",
    "import numpy as np\n",
    "\n",
    "from sklearn.datasets import load_breast_cancer\n",
    "from sklearn.linear_model import LogisticRegression\n",
    "from sklearn.model_selection import train_test_split\n",
    "from sklearn import metrics"
   ]
  },
  {
   "cell_type": "code",
   "execution_count": 5,
   "metadata": {},
   "outputs": [],
   "source": [
    "pd.set_option('display.max_columns',None)"
   ]
  },
  {
   "cell_type": "code",
   "execution_count": 6,
   "metadata": {},
   "outputs": [
    {
     "data": {
      "text/html": [
       "<div>\n",
       "<style scoped>\n",
       "    .dataframe tbody tr th:only-of-type {\n",
       "        vertical-align: middle;\n",
       "    }\n",
       "\n",
       "    .dataframe tbody tr th {\n",
       "        vertical-align: top;\n",
       "    }\n",
       "\n",
       "    .dataframe thead th {\n",
       "        text-align: right;\n",
       "    }\n",
       "</style>\n",
       "<table border=\"1\" class=\"dataframe\">\n",
       "  <thead>\n",
       "    <tr style=\"text-align: right;\">\n",
       "      <th></th>\n",
       "      <th>mean radius</th>\n",
       "      <th>mean texture</th>\n",
       "      <th>mean perimeter</th>\n",
       "      <th>mean area</th>\n",
       "      <th>mean smoothness</th>\n",
       "      <th>mean compactness</th>\n",
       "      <th>mean concavity</th>\n",
       "      <th>mean concave points</th>\n",
       "      <th>mean symmetry</th>\n",
       "      <th>mean fractal dimension</th>\n",
       "      <th>radius error</th>\n",
       "      <th>texture error</th>\n",
       "      <th>perimeter error</th>\n",
       "      <th>area error</th>\n",
       "      <th>smoothness error</th>\n",
       "      <th>compactness error</th>\n",
       "      <th>concavity error</th>\n",
       "      <th>concave points error</th>\n",
       "      <th>symmetry error</th>\n",
       "      <th>fractal dimension error</th>\n",
       "      <th>worst radius</th>\n",
       "      <th>worst texture</th>\n",
       "      <th>worst perimeter</th>\n",
       "      <th>worst area</th>\n",
       "      <th>worst smoothness</th>\n",
       "      <th>worst compactness</th>\n",
       "      <th>worst concavity</th>\n",
       "      <th>worst concave points</th>\n",
       "      <th>worst symmetry</th>\n",
       "      <th>worst fractal dimension</th>\n",
       "    </tr>\n",
       "  </thead>\n",
       "  <tbody>\n",
       "    <tr>\n",
       "      <th>0</th>\n",
       "      <td>17.99</td>\n",
       "      <td>10.38</td>\n",
       "      <td>122.8</td>\n",
       "      <td>1001.0</td>\n",
       "      <td>0.1184</td>\n",
       "      <td>0.2776</td>\n",
       "      <td>0.3001</td>\n",
       "      <td>0.1471</td>\n",
       "      <td>0.2419</td>\n",
       "      <td>0.07871</td>\n",
       "      <td>1.095</td>\n",
       "      <td>0.9053</td>\n",
       "      <td>8.589</td>\n",
       "      <td>153.4</td>\n",
       "      <td>0.006399</td>\n",
       "      <td>0.04904</td>\n",
       "      <td>0.05373</td>\n",
       "      <td>0.01587</td>\n",
       "      <td>0.03003</td>\n",
       "      <td>0.006193</td>\n",
       "      <td>25.38</td>\n",
       "      <td>17.33</td>\n",
       "      <td>184.6</td>\n",
       "      <td>2019.0</td>\n",
       "      <td>0.1622</td>\n",
       "      <td>0.6656</td>\n",
       "      <td>0.7119</td>\n",
       "      <td>0.2654</td>\n",
       "      <td>0.4601</td>\n",
       "      <td>0.1189</td>\n",
       "    </tr>\n",
       "  </tbody>\n",
       "</table>\n",
       "</div>"
      ],
      "text/plain": [
       "   mean radius  mean texture  mean perimeter  mean area  mean smoothness  \\\n",
       "0        17.99         10.38           122.8     1001.0           0.1184   \n",
       "\n",
       "   mean compactness  mean concavity  mean concave points  mean symmetry  \\\n",
       "0            0.2776          0.3001               0.1471         0.2419   \n",
       "\n",
       "   mean fractal dimension  radius error  texture error  perimeter error  \\\n",
       "0                 0.07871         1.095         0.9053            8.589   \n",
       "\n",
       "   area error  smoothness error  compactness error  concavity error  \\\n",
       "0       153.4          0.006399            0.04904          0.05373   \n",
       "\n",
       "   concave points error  symmetry error  fractal dimension error  \\\n",
       "0               0.01587         0.03003                 0.006193   \n",
       "\n",
       "   worst radius  worst texture  worst perimeter  worst area  worst smoothness  \\\n",
       "0         25.38          17.33            184.6      2019.0            0.1622   \n",
       "\n",
       "   worst compactness  worst concavity  worst concave points  worst symmetry  \\\n",
       "0             0.6656           0.7119                0.2654          0.4601   \n",
       "\n",
       "   worst fractal dimension  \n",
       "0                   0.1189  "
      ]
     },
     "execution_count": 6,
     "metadata": {},
     "output_type": "execute_result"
    }
   ],
   "source": [
    "data = load_breast_cancer()\n",
    "data_df = pd.DataFrame(data.data , columns = data.feature_names)\n",
    "data_df.head(1)"
   ]
  },
  {
   "cell_type": "code",
   "execution_count": 7,
   "metadata": {},
   "outputs": [],
   "source": [
    "x = data_df\n",
    "y = data.target"
   ]
  },
  {
   "cell_type": "code",
   "execution_count": 8,
   "metadata": {},
   "outputs": [],
   "source": [
    "x_train , x_test , y_train , y_test = train_test_split( x , y , test_size = 0.2 , random_state = 0)"
   ]
  },
  {
   "cell_type": "code",
   "execution_count": 9,
   "metadata": {},
   "outputs": [
    {
     "name": "stderr",
     "output_type": "stream",
     "text": [
      "C:\\Users\\Administrator\\AppData\\Roaming\\Python\\Python37\\site-packages\\sklearn\\linear_model\\logistic.py:432: FutureWarning: Default solver will be changed to 'lbfgs' in 0.22. Specify a solver to silence this warning.\n",
      "  FutureWarning)\n"
     ]
    },
    {
     "data": {
      "text/plain": [
       "LogisticRegression(C=1.0, class_weight=None, dual=False, fit_intercept=True,\n",
       "                   intercept_scaling=1, l1_ratio=None, max_iter=100,\n",
       "                   multi_class='warn', n_jobs=None, penalty='l2',\n",
       "                   random_state=None, solver='warn', tol=0.0001, verbose=0,\n",
       "                   warm_start=False)"
      ]
     },
     "execution_count": 9,
     "metadata": {},
     "output_type": "execute_result"
    }
   ],
   "source": [
    "reg = LogisticRegression()\n",
    "reg.fit(x_train , y_train )"
   ]
  },
  {
   "cell_type": "code",
   "execution_count": 10,
   "metadata": {},
   "outputs": [],
   "source": [
    "pred = reg.predict(x_test)"
   ]
  },
  {
   "cell_type": "code",
   "execution_count": 11,
   "metadata": {},
   "outputs": [
    {
     "name": "stdout",
     "output_type": "stream",
     "text": [
      "[0 1 1 1 1 1 1 1 1 1 1 1 1 0 1 0 1 0 0 0 0 0 1 1 0 1 1 0 1 0 1 0 1 0 1 0 1\n",
      " 0 1 0 0 1 0 1 0 0 1 1 1 0 0 0 0 1 1 1 1 1 1 0 0 0 1 1 0 1 0 0 0 1 0 0 1 1\n",
      " 0 1 1 1 1 1 0 0 0 1 0 1 1 1 0 0 1 0 0 0 1 1 0 1 1 1 1 1 1 1 0 1 0 1 0 0 1\n",
      " 0 0 1]\n",
      "114\n"
     ]
    }
   ],
   "source": [
    "print(pred)\n",
    "print(len(pred ) )"
   ]
  },
  {
   "cell_type": "code",
   "execution_count": 12,
   "metadata": {},
   "outputs": [
    {
     "data": {
      "text/plain": [
       "0.956140350877193"
      ]
     },
     "execution_count": 12,
     "metadata": {},
     "output_type": "execute_result"
    }
   ],
   "source": [
    "reg.score( x_test , y_test )"
   ]
  },
  {
   "cell_type": "code",
   "execution_count": 16,
   "metadata": {},
   "outputs": [
    {
     "data": {
      "text/plain": [
       "0.956140350877193"
      ]
     },
     "execution_count": 16,
     "metadata": {},
     "output_type": "execute_result"
    }
   ],
   "source": [
    "metrics.accuracy_score(y_test , pred)"
   ]
  },
  {
   "cell_type": "code",
   "execution_count": 10,
   "metadata": {},
   "outputs": [
    {
     "name": "stdout",
     "output_type": "stream",
     "text": [
      "Coeficient :  [[ 1.83709626  0.09709082  0.05431434 -0.00549287 -0.12503633 -0.36723433\n",
      "  -0.52770992 -0.26736057 -0.23770488 -0.02550168  0.02601927  0.99361595\n",
      "   0.13602945 -0.10816316 -0.00725728 -0.0119086  -0.04622534 -0.02855488\n",
      "  -0.03460081  0.0054971   1.46279145 -0.30316764 -0.22963246 -0.02188446\n",
      "  -0.21335308 -1.16228268 -1.55045261 -0.54222795 -0.62215375 -0.12420855]]\n",
      "Intercept :  [0.36947182]\n"
     ]
    }
   ],
   "source": [
    "print(\"Coeficient : \",reg.coef_)\n",
    "print(\"Intercept : \",reg.intercept_)"
   ]
  },
  {
   "cell_type": "code",
   "execution_count": 15,
   "metadata": {},
   "outputs": [
    {
     "name": "stdout",
     "output_type": "stream",
     "text": [
      "Cofusion Matrics is : \n",
      "[[46  1]\n",
      " [ 4 63]]\n"
     ]
    }
   ],
   "source": [
    "  = metrics.confusion_matrix( y_test , pred)\n",
    "print(\"Cofusion Matrics is : \" , cm , sep ='\\n')"
   ]
  },
  {
   "cell_type": "code",
   "execution_count": 12,
   "metadata": {},
   "outputs": [],
   "source": [
    "np.set_printoptions(suppress=True,\n",
    "   formatter={'float_kind':'{:0.2f}'.format}) "
   ]
  },
  {
   "cell_type": "code",
   "execution_count": 13,
   "metadata": {},
   "outputs": [
    {
     "name": "stdout",
     "output_type": "stream",
     "text": [
      "[[0.99 0.01]\n",
      " [0.03 0.97]\n",
      " [0.00 1.00]\n",
      " [0.18 0.82]\n",
      " [0.00 1.00]\n",
      " [0.00 1.00]\n",
      " [0.01 0.99]\n",
      " [0.00 1.00]\n",
      " [0.03 0.97]\n",
      " [0.00 1.00]\n",
      " [0.39 0.61]\n",
      " [0.16 0.84]\n",
      " [0.00 1.00]\n",
      " [0.76 0.24]\n",
      " [0.20 0.80]\n",
      " [0.99 0.01]\n",
      " [0.01 0.99]\n",
      " [1.00 0.00]\n",
      " [1.00 0.00]\n",
      " [1.00 0.00]\n",
      " [1.00 0.00]\n",
      " [0.91 0.09]\n",
      " [0.00 1.00]\n",
      " [0.01 0.99]\n",
      " [0.99 0.01]\n",
      " [0.01 0.99]\n",
      " [0.00 1.00]\n",
      " [0.83 0.17]\n",
      " [0.00 1.00]\n",
      " [1.00 0.00]\n",
      " [0.00 1.00]\n",
      " [1.00 0.00]\n",
      " [0.37 0.63]\n",
      " [1.00 0.00]\n",
      " [0.00 1.00]\n",
      " [1.00 0.00]\n",
      " [0.08 0.92]\n",
      " [1.00 0.00]\n",
      " [0.00 1.00]\n",
      " [1.00 0.00]\n",
      " [0.95 0.05]\n",
      " [0.00 1.00]\n",
      " [1.00 0.00]\n",
      " [0.00 1.00]\n",
      " [0.93 0.07]\n",
      " [1.00 0.00]\n",
      " [0.00 1.00]\n",
      " [0.03 0.97]\n",
      " [0.00 1.00]\n",
      " [1.00 0.00]\n",
      " [1.00 0.00]\n",
      " [0.67 0.33]\n",
      " [1.00 0.00]\n",
      " [0.00 1.00]\n",
      " [0.01 0.99]\n",
      " [0.00 1.00]\n",
      " [0.01 0.99]\n",
      " [0.02 0.98]\n",
      " [0.02 0.98]\n",
      " [1.00 0.00]\n",
      " [0.98 0.02]\n",
      " [1.00 0.00]\n",
      " [0.00 1.00]\n",
      " [0.00 1.00]\n",
      " [1.00 0.00]\n",
      " [0.11 0.89]\n",
      " [1.00 0.00]\n",
      " [1.00 0.00]\n",
      " [1.00 0.00]\n",
      " [0.01 0.99]\n",
      " [0.57 0.43]\n",
      " [1.00 0.00]\n",
      " [0.00 1.00]\n",
      " [0.14 0.86]\n",
      " [1.00 0.00]\n",
      " [0.03 0.97]\n",
      " [0.00 1.00]\n",
      " [0.01 0.99]\n",
      " [0.01 0.99]\n",
      " [0.01 0.99]\n",
      " [1.00 0.00]\n",
      " [1.00 0.00]\n",
      " [1.00 0.00]\n",
      " [0.00 1.00]\n",
      " [0.94 0.06]\n",
      " [0.00 1.00]\n",
      " [0.00 1.00]\n",
      " [0.00 1.00]\n",
      " [1.00 0.00]\n",
      " [1.00 0.00]\n",
      " [0.00 1.00]\n",
      " [0.77 0.23]\n",
      " [0.63 0.37]\n",
      " [1.00 0.00]\n",
      " [0.01 0.99]\n",
      " [0.01 0.99]\n",
      " [1.00 0.00]\n",
      " [0.19 0.81]\n",
      " [0.03 0.97]\n",
      " [0.01 0.99]\n",
      " [0.00 1.00]\n",
      " [0.01 0.99]\n",
      " [0.01 0.99]\n",
      " [0.10 0.90]\n",
      " [1.00 0.00]\n",
      " [0.00 1.00]\n",
      " [1.00 0.00]\n",
      " [0.16 0.84]\n",
      " [0.83 0.17]\n",
      " [0.80 0.20]\n",
      " [0.02 0.98]\n",
      " [1.00 0.00]\n",
      " [1.00 0.00]\n",
      " [0.11 0.89]]\n"
     ]
    }
   ],
   "source": [
    "prob = reg.predict_proba(x_test)\n",
    "print(prob)"
   ]
  },
  {
   "cell_type": "code",
   "execution_count": 14,
   "metadata": {},
   "outputs": [
    {
     "name": "stdout",
     "output_type": "stream",
     "text": [
      "FPR       :  [0.00 0.00 0.00 0.02 0.02 0.04 0.04 0.15 0.15 1.00]\n",
      "TPR       :  [0.00 0.01 0.84 0.84 0.97 0.97 0.99 0.99 1.00 1.00]\n",
      "Threshold :  [2.00 1.00 0.89 0.86 0.37 0.33 0.24 0.09 0.07 0.00]\n",
      "Area under curve (this is displayed below ) :   0.9942838996506828\n"
     ]
    }
   ],
   "source": [
    "pos_prob = prob[ : , 1] # taking onpu positive prob\n",
    "fpr , tpr , threshold = metrics.roc_curve(y_test , pos_prob )\n",
    "print(\"FPR       : \" , fpr)\n",
    "print(\"TPR       : \" , tpr)\n",
    "print(\"Threshold : \",threshold)\n",
    "print(\"Area under curve (this is displayed below ) :  \",metrics.auc( fpr , tpr ))\n",
    "roc_auc = metrics.auc( fpr , tpr )"
   ]
  },
  {
   "cell_type": "code",
   "execution_count": 15,
   "metadata": {},
   "outputs": [],
   "source": [
    "import matplotlib.pyplot as plt\n",
    "%matplotlib inline "
   ]
  },
  {
   "cell_type": "code",
   "execution_count": 16,
   "metadata": {},
   "outputs": [
    {
     "data": {
      "image/png": "[encoded data removed]",
      "text/plain": [
       "<Figure size 432x288 with 1 Axes>"
      ]
     },
     "metadata": {
      "needs_background": "light"
     },
     "output_type": "display_data"
    }
   ],
   "source": [
    "plt.title('Receiver Operating Characteristic')\n",
    "plt.plot(fpr , tpr , label = 'AUC = %.2f' % roc_auc )\n",
    "plt.plot([0,1],[0,1] , linestyle='--')\n",
    "plt.legend(loc='lower right')\n",
    "plt.show()"
   ]
  },
  {
   "cell_type": "code",
   "execution_count": null,
   "metadata": {},
   "outputs": [],
   "source": []
  },
  {
   "cell_type": "code",
   "execution_count": 67,
   "metadata": {},
   "outputs": [],
   "source": [
    "# We need to make the false negative less as much as possible "
   ]
  },
  {
   "cell_type": "code",
   "execution_count": 79,
   "metadata": {},
   "outputs": [
    {
     "name": "stdout",
     "output_type": "stream",
     "text": [
      "FPR       :  [0.00 0.13 1.00]\n",
      "TPR       :  [0.00 0.99 1.00]\n",
      "Threshold :  [2 1 0]\n",
      "Area under curve (this is displayed below ) :   0.9287075261987933\n",
      "FPR       :  [0.00 0.06 1.00]\n",
      "TPR       :  [0.00 0.99 1.00]\n",
      "Threshold :  [2 1 0]\n",
      "Area under curve (this is displayed below ) :   0.9606224198158145\n",
      "FPR       :  [0.00 0.04 1.00]\n",
      "TPR       :  [0.00 0.97 1.00]\n",
      "Threshold :  [2 1 0]\n",
      "Area under curve (this is displayed below ) :   0.9637980311209908\n",
      "FPR       :  [0.00 0.02 1.00]\n",
      "TPR       :  [0.00 0.94 1.00]\n",
      "Threshold :  [2 1 0]\n",
      "Area under curve (this is displayed below ) :   0.9595109558590028\n",
      "FPR       :  [0.00 0.02 1.00]\n",
      "TPR       :  [0.00 0.91 1.00]\n",
      "Threshold :  [2 1 0]\n",
      "Area under curve (this is displayed below ) :   0.9445855827246744\n",
      "FPR       :  [0.00 0.02 1.00]\n",
      "TPR       :  [0.00 0.91 1.00]\n",
      "Threshold :  [2 1 0]\n",
      "Area under curve (this is displayed below ) :   0.9445855827246744\n"
     ]
    },
    {
     "data": {
      "image/png": "[encoded data removed]",
      "text/plain": [
       "<Figure size 720x504 with 6 Axes>"
      ]
     },
     "metadata": {
      "needs_background": "light"
     },
     "output_type": "display_data"
    }
   ],
   "source": [
    "plt.rcParams['figure.figsize'] = [10,7]\n",
    "l1 = [0.1,0.2,0.3,0.5,0.7,0.8]\n",
    "for i in range(0,len(l1) ):\n",
    "    pos_prob = (prob[ : , 1] > l1[i] ).astype(int) # Checking for diff value of threshold \n",
    "\n",
    "    fpr , tpr , threshold = metrics.roc_curve(y_test , pos_prob )\n",
    "    print(\"FPR       : \" , fpr)\n",
    "    print(\"TPR       : \" , tpr)\n",
    "    print(\"Threshold : \",threshold)\n",
    "    print(\"Area under curve (this is displayed below ) :  \",metrics.auc( fpr , tpr ))\n",
    "    roc_auc = metrics.auc( fpr , tpr )\n",
    "\n",
    "    plt.subplot(2,3,i+1)                                    \n",
    "    plt.title('Receiver Operating Characteristic')\n",
    "    plt.plot(fpr , tpr , label = 'AUC = %.2f' % roc_auc )\n",
    "    plt.plot([0,1],[0,1] , linestyle='--')\n",
    "    plt.legend(loc='lower right')\n",
    "plt.show()\n",
    "    "
   ]
  },
  {
   "cell_type": "code",
   "execution_count": null,
   "metadata": {},
   "outputs": [],
   "source": []
  },
  {
   "cell_type": "code",
   "execution_count": null,
   "metadata": {},
   "outputs": [],
   "source": []
  },
  {
   "cell_type": "code",
   "execution_count": null,
   "metadata": {},
   "outputs": [],
   "source": [
    "# wat happens if the actual and predicted value are same"
   ]
  },
  {
   "cell_type": "code",
   "execution_count": 17,
   "metadata": {},
   "outputs": [
    {
     "name": "stdout",
     "output_type": "stream",
     "text": [
      "FPR       :  [0.00 0.00 1.00]\n",
      "TPR       :  [0.00 1.00 1.00]\n",
      "Threshold :  [2 1 0]\n",
      "Area under curve (this is displayed below ) :   1.0\n"
     ]
    }
   ],
   "source": [
    "pos_prob = prob[ : , 1] # taking onpu positive prob\n",
    "fpr , tpr , threshold = metrics.roc_curve(y_test , y_test )\n",
    "print(\"FPR       : \" , fpr)\n",
    "print(\"TPR       : \" , tpr)\n",
    "print(\"Threshold : \",threshold)\n",
    "print(\"Area under curve (this is displayed below ) :  \",metrics.auc( fpr , tpr ))\n",
    "roc_auc = metrics.auc( fpr , tpr )"
   ]
  },
  {
   "cell_type": "code",
   "execution_count": 18,
   "metadata": {},
   "outputs": [
    {
     "data": {
      "image/png": "[encoded data removed]",
      "text/plain": [
       "<Figure size 432x288 with 1 Axes>"
      ]
     },
     "metadata": {
      "needs_background": "light"
     },
     "output_type": "display_data"
    }
   ],
   "source": [
    "plt.title('Receiver Operating Characteristic')\n",
    "plt.plot(fpr , tpr , label = 'AUC = %.2f' % roc_auc )\n",
    "plt.plot([0,1],[0,1] , linestyle='--')\n",
    "plt.legend(loc='lower right')\n",
    "plt.show()"
   ]
  },
  {
   "cell_type": "code",
   "execution_count": null,
   "metadata": {},
   "outputs": [],
   "source": []
  }
 ],
 "metadata": {
  "kernelspec": {
   "display_name": "Python 3",
   "language": "python",
   "name": "python3"
  },
  "language_info": {
   "codemirror_mode": {
    "name": "ipython",
    "version": 3
   },
   "file_extension": ".py",
   "mimetype": "text/x-python",
   "name": "python",
   "nbconvert_exporter": "python",
   "pygments_lexer": "ipython3",
   "version": "3.7.3"
  }
 },
 "nbformat": 4,
 "nbformat_minor": 2
}
